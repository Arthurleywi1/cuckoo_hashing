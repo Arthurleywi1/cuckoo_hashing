{
 "cells": [
  {
   "cell_type": "code",
   "execution_count": 5,
   "id": "8ad862fa",
   "metadata": {},
   "outputs": [],
   "source": [
    "class CuckooHashTable:\n",
    "    def __init__(self, size):\n",
    "        self.size = size\n",
    "        self.table = [[] for _ in range(size)]\n",
    "\n",
    "    def _hash(self, key, i):\n",
    "        # Use the built-in hash function to hash the key\n",
    "        # and return the index in the table\n",
    "        return hash(key) % self.size\n",
    "\n",
    "    def insert(self, key):\n",
    "        for i in range(self.size):\n",
    "            index = self._hash(key, i)\n",
    "            if not self.table[index]:\n",
    "                self.table[index].append(key)\n",
    "                return\n",
    "            else:\n",
    "                # Kick out the existing element and try to insert the new element again\n",
    "                temp = self.table[index][0]\n",
    "                self.table[index][0] = key\n",
    "                key = temp\n",
    "        # If we reach this point, the hash table is full and we can't insert the new element\n",
    "        raise Exception('Hash table is full')\n",
    "\n",
    "    def search(self, key):\n",
    "        for i in range(self.size):\n",
    "            index = self._hash(key, i)\n",
    "            if key in self.table[index]:\n",
    "                return True\n",
    "        return False\n",
    "    \n",
    "    def print_table(self):\n",
    "        for i, slot in enumerate(self.table):\n",
    "            print(f'Slot {i}: {slot}')\n"
   ]
  },
  {
   "cell_type": "code",
   "execution_count": 14,
   "id": "c3f74501",
   "metadata": {},
   "outputs": [
    {
     "name": "stdout",
     "output_type": "stream",
     "text": [
      "True\n",
      "False\n",
      "Slot 0: []\n",
      "Slot 1: []\n",
      "Slot 2: ['apple']\n",
      "Slot 3: []\n",
      "Slot 4: []\n",
      "Slot 5: []\n",
      "Slot 6: []\n",
      "Slot 7: ['pika']\n",
      "Slot 8: []\n",
      "Slot 9: ['pokemon']\n"
     ]
    }
   ],
   "source": [
    "hash_table = CuckooHashTable(10)\n",
    "hash_table.insert('apple')\n",
    "hash_table.insert('pika')\n",
    "hash_table.insert('pokemon')\n",
    "\n",
    "print(hash_table.search('apple'))  # prints True\n",
    "print(hash_table.search('orange'))  # prints False\n",
    "\n",
    "hash_table.print_table()\n"
   ]
  },
  {
   "cell_type": "code",
   "execution_count": 29,
   "id": "4888589b",
   "metadata": {},
   "outputs": [],
   "source": [
    "class CuckooHash:\n",
    "    def __init__(self, size):\n",
    "        self.size = size\n",
    "        self.table1 = [None] * self.size\n",
    "        self.table2 = [None] * self.size\n",
    "\n",
    "    def insert(self, key):\n",
    "        index1 = hash(key.encode()) % self.size\n",
    "        index2 = hash(key.encode() + b\"CuckooHashing\") % self.size\n",
    "        if self.table1[index1] is None:\n",
    "            self.table1[index1] = key\n",
    "        elif self.table2[index2] is None:\n",
    "            self.table2[index2] = key\n",
    "        else:\n",
    "            temp = self.table1[index1]\n",
    "            self.table1[index1] = key\n",
    "            key = temp\n",
    "            index1 = index2\n",
    "\n",
    "\n",
    "    def search(self, key):\n",
    "        index1 = hash(key.encode()) % self.size\n",
    "        index2 = hash(key.encode() + b\"CuckooHashing\") % self.size\n",
    "        if self.table1[index1] == key:\n",
    "            return index1\n",
    "        elif self.table2[index2] == key:\n",
    "            return index2\n",
    "        else:\n",
    "            return None\n",
    "\n",
    "    \n",
    "    def print_tables(self):\n",
    "        print(\"Table 1:\", self.table1)\n",
    "        print(\"Table 2:\", self.table2)\n"
   ]
  },
  {
   "cell_type": "code",
   "execution_count": 32,
   "id": "c495ec02",
   "metadata": {},
   "outputs": [
    {
     "name": "stdout",
     "output_type": "stream",
     "text": [
      "[None, None, 'apple', None, None, None, None, 'orange', 'grape', None]\n",
      "[None, 'banana', None, 'kiwi', None, None, None, None, None, None]\n",
      "8\n",
      "2\n",
      "1\n",
      "7\n",
      "3\n"
     ]
    }
   ],
   "source": [
    "hash_table = CuckooHash(10)\n",
    "\n",
    "# Add some values to the hash table\n",
    "hash_table.insert(\"grape\")\n",
    "hash_table.insert(\"apple\")\n",
    "hash_table.insert(\"banana\")\n",
    "hash_table.insert(\"orange\")\n",
    "hash_table.insert(\"kiwi\")\n",
    "\n",
    "# Print the hash table\n",
    "print(hash_table.table1)\n",
    "print(hash_table.table2)\n",
    "\n",
    "# Search for some values in the hash table\n",
    "print(hash_table.search(\"grape\"))\n",
    "print(hash_table.search(\"apple\"))\n",
    "print(hash_table.search(\"banana\"))\n",
    "print(hash_table.search(\"orange\"))\n",
    "print(hash_table.search(\"kiwi\"))"
   ]
  },
  {
   "cell_type": "code",
   "execution_count": null,
   "id": "da2456d3",
   "metadata": {},
   "outputs": [],
   "source": []
  },
  {
   "cell_type": "code",
   "execution_count": null,
   "id": "652cfd47",
   "metadata": {},
   "outputs": [],
   "source": []
  }
 ],
 "metadata": {
  "kernelspec": {
   "display_name": "Python 3 (ipykernel)",
   "language": "python",
   "name": "python3"
  },
  "language_info": {
   "codemirror_mode": {
    "name": "ipython",
    "version": 3
   },
   "file_extension": ".py",
   "mimetype": "text/x-python",
   "name": "python",
   "nbconvert_exporter": "python",
   "pygments_lexer": "ipython3",
   "version": "3.9.13"
  }
 },
 "nbformat": 4,
 "nbformat_minor": 5
}
